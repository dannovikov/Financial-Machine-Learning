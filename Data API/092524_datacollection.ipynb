{
 "cells": [
  {
   "cell_type": "code",
   "execution_count": 3,
   "metadata": {},
   "outputs": [],
   "source": [
    "from ibapi.client import EClient\n",
    "from ibapi.wrapper import EWrapper\n",
    "from ibapi.contract import Contract\n",
    "from threading import Thread\n",
    "import time\n",
    "import datetime\n",
    "\n",
    "\n",
    "class MinimalIBApi(EWrapper, EClient):\n",
    "    def __init__(self):\n",
    "        EClient.__init__(self, self)\n",
    "        self.reqId = 1\n",
    "        self.contract = self.create_september_contract()  # September 2024 ES contract\n",
    "        self.start_datetime = \"20240620 00:00:00\"  # Hardcoded start time when the June 2024 contract expires\n",
    "        self.max_ticks = 1000\n",
    "        self.last_tick = None  # To track the last tick received for overlap handling\n",
    "\n",
    "    def create_september_contract(self):\n",
    "        \"\"\"Create the September 2024 ES futures contract.\"\"\"\n",
    "        contract = Contract()\n",
    "        contract.symbol = \"ES\"\n",
    "        contract.secType = \"FUT\"\n",
    "        contract.exchange = \"CME\"\n",
    "        contract.currency = \"USD\"\n",
    "        contract.lastTradeDateOrContractMonth = \"202409\"\n",
    "        return contract\n",
    "\n",
    "    def nextValidId(self, orderId):\n",
    "        self.reqId = orderId\n",
    "        self.request_historical_ticks()\n",
    "\n",
    "    def request_historical_ticks(self):\n",
    "        print(f\"Requesting historical data starting from {self.start_datetime}\")\n",
    "        self.reqHistoricalTicks(self.reqId, self.contract, self.start_datetime, \"\", self.max_ticks, \"TRADES\", 1, True, [])\n",
    "\n",
    "    def historicalTicks(self, reqId, ticks, done):\n",
    "        print(f\"Received {len(ticks)} ticks:\")\n",
    "        if ticks:\n",
    "            if self.last_tick:\n",
    "                # Check for overlap by comparing the first tick with the last tick from the previous batch\n",
    "                assert ticks[0].time == self.last_tick.time, \"Timestamps don't match!\"\n",
    "                print(\"First tick is the same as the last tick of the previous batch, discarding it.\")\n",
    "                ticks = ticks[1:]  # Discard the first tick if it's a duplicate\n",
    "\n",
    "            for tick in ticks:\n",
    "                timestamp = datetime.datetime.fromtimestamp(tick.time)\n",
    "                print(f\"Time: {timestamp}, Price: {tick.price}, Size: {tick.size}\")\n",
    "\n",
    "            # Update last tick received for overlap handling\n",
    "            self.last_tick = ticks[-1]\n",
    "\n",
    "            # Set the start time for the next request\n",
    "            self.start_datetime = datetime.datetime.fromtimestamp(self.last_tick.time).strftime('%Y%m%d %H:%M:%S')\n",
    "\n",
    "        if done:\n",
    "            print(\"All historical tick data received.\")\n",
    "            self.disconnect()\n",
    "        else:\n",
    "            # Continue requesting more data\n",
    "            self.reqId += 1\n",
    "            self.request_historical_ticks()\n",
    "\n",
    "    def error(self, reqId, errorCode, errorString, advancedOrderRejectJson=None):\n",
    "        print(f\"Error: {errorCode} - {errorString}\")\n",
    "\n",
    "\n",
    "def main():\n",
    "    app = MinimalIBApi()\n",
    "    app.connect(\"127.0.0.1\", 7497, clientId=1)\n",
    "\n",
    "    # Start the socket in a thread to avoid blocking\n",
    "    api_thread = Thread(target=app.run)\n",
    "    api_thread.start()\n",
    "\n",
    "    # Wait for data to be received\n",
    "    time.sleep(10)\n",
    "\n",
    "    # Disconnect the client\n",
    "    app.disconnect()\n",
    "    api_thread.join()\n"
   ]
  },
  {
   "cell_type": "code",
   "execution_count": 4,
   "metadata": {},
   "outputs": [
    {
     "name": "stdout",
     "output_type": "stream",
     "text": [
      "Requesting historical data starting from 20240620 00:00:00\n",
      "Error: 2104 - Market data farm connection is OK:usfarm.nj\n",
      "Error: 2104 - Market data farm connection is OK:hfarm\n",
      "Error: 2104 - Market data farm connection is OK:jfarm\n",
      "Error: 2104 - Market data farm connection is OK:usfuture\n",
      "Error: 2104 - Market data farm connection is OK:cashfarm\n",
      "Error: 2104 - Market data farm connection is OK:usfarm\n",
      "Error: 2104 - Market data farm connection is OK:eufarmnj\n",
      "Error: 2106 - HMDS data farm connection is OK:euhmds\n",
      "Error: 2106 - HMDS data farm connection is OK:fundfarm\n",
      "Error: 2106 - HMDS data farm connection is OK:ushmds\n",
      "Error: 2158 - Sec-def data farm connection is OK:secdefnj\n",
      "Error: 2174 - Warning: You submitted request with date-time attributes without explicit time zone. Please switch to use yyyymmdd-hh:mm:ss in UTC or use instrument time zone, like US/Eastern. Implied time zone functionality will be removed in the next API release\n"
     ]
    }
   ],
   "source": [
    "main()"
   ]
  },
  {
   "cell_type": "code",
   "execution_count": 5,
   "metadata": {},
   "outputs": [
    {
     "name": "stdout",
     "output_type": "stream",
     "text": [
      "\u001b[33mDEPRECATION: Loading egg at /opt/miniconda3/envs/ibkr/lib/python3.12/site-packages/ibapi-10.19.4-py3.12.egg is deprecated. pip 24.3 will enforce this behaviour change. A possible replacement is to use pip for package installation.. Discussion can be found at https://github.com/pypa/pip/issues/12330\u001b[0m\u001b[33m\n",
      "\u001b[0mCollecting databento\n",
      "  Downloading databento-0.42.0-py3-none-any.whl.metadata (6.8 kB)\n",
      "Collecting aiohttp<4.0.0,>=3.9.0 (from databento)\n",
      "  Downloading aiohttp-3.10.6-cp312-cp312-macosx_11_0_arm64.whl.metadata (7.6 kB)\n",
      "Collecting databento-dbn==0.20.1 (from databento)\n",
      "  Downloading databento_dbn-0.20.1-cp312-cp312-macosx_10_12_x86_64.macosx_11_0_arm64.macosx_10_12_universal2.whl.metadata (2.2 kB)\n",
      "Requirement already satisfied: numpy<2.0.0,>=1.26.0 in /opt/miniconda3/envs/ibkr/lib/python3.12/site-packages (from databento) (1.26.4)\n",
      "Requirement already satisfied: pandas>=1.5.3 in /opt/miniconda3/envs/ibkr/lib/python3.12/site-packages (from databento) (2.2.2)\n",
      "Collecting pyarrow>=13.0.0 (from databento)\n",
      "  Downloading pyarrow-17.0.0-cp312-cp312-macosx_11_0_arm64.whl.metadata (3.3 kB)\n",
      "Requirement already satisfied: requests>=2.24.0 in /opt/miniconda3/envs/ibkr/lib/python3.12/site-packages (from databento) (2.32.3)\n",
      "Collecting zstandard>=0.21.0 (from databento)\n",
      "  Downloading zstandard-0.23.0-cp312-cp312-macosx_11_0_arm64.whl.metadata (3.0 kB)\n",
      "Collecting aiohappyeyeballs>=2.3.0 (from aiohttp<4.0.0,>=3.9.0->databento)\n",
      "  Downloading aiohappyeyeballs-2.4.0-py3-none-any.whl.metadata (5.9 kB)\n",
      "Collecting aiosignal>=1.1.2 (from aiohttp<4.0.0,>=3.9.0->databento)\n",
      "  Downloading aiosignal-1.3.1-py3-none-any.whl.metadata (4.0 kB)\n",
      "Requirement already satisfied: attrs>=17.3.0 in /opt/miniconda3/envs/ibkr/lib/python3.12/site-packages (from aiohttp<4.0.0,>=3.9.0->databento) (23.2.0)\n",
      "Collecting frozenlist>=1.1.1 (from aiohttp<4.0.0,>=3.9.0->databento)\n",
      "  Downloading frozenlist-1.4.1-cp312-cp312-macosx_11_0_arm64.whl.metadata (12 kB)\n",
      "Collecting multidict<7.0,>=4.5 (from aiohttp<4.0.0,>=3.9.0->databento)\n",
      "  Downloading multidict-6.1.0-cp312-cp312-macosx_11_0_arm64.whl.metadata (5.0 kB)\n",
      "Collecting yarl<2.0,>=1.12.0 (from aiohttp<4.0.0,>=3.9.0->databento)\n",
      "  Downloading yarl-1.12.1-cp312-cp312-macosx_11_0_arm64.whl.metadata (49 kB)\n",
      "\u001b[2K     \u001b[90m━━━━━━━━━━━━━━━━━━━━━━━━━━━━━━━━━━━━━━━━\u001b[0m \u001b[32m49.2/49.2 kB\u001b[0m \u001b[31m1.1 MB/s\u001b[0m eta \u001b[36m0:00:00\u001b[0ma \u001b[36m0:00:01\u001b[0m\n",
      "\u001b[?25hRequirement already satisfied: python-dateutil>=2.8.2 in /opt/miniconda3/envs/ibkr/lib/python3.12/site-packages (from pandas>=1.5.3->databento) (2.9.0.post0)\n",
      "Requirement already satisfied: pytz>=2020.1 in /opt/miniconda3/envs/ibkr/lib/python3.12/site-packages (from pandas>=1.5.3->databento) (2024.1)\n",
      "Requirement already satisfied: tzdata>=2022.7 in /opt/miniconda3/envs/ibkr/lib/python3.12/site-packages (from pandas>=1.5.3->databento) (2023.3)\n",
      "Requirement already satisfied: charset-normalizer<4,>=2 in /opt/miniconda3/envs/ibkr/lib/python3.12/site-packages (from requests>=2.24.0->databento) (3.3.2)\n",
      "Requirement already satisfied: idna<4,>=2.5 in /opt/miniconda3/envs/ibkr/lib/python3.12/site-packages (from requests>=2.24.0->databento) (3.8)\n",
      "Requirement already satisfied: urllib3<3,>=1.21.1 in /opt/miniconda3/envs/ibkr/lib/python3.12/site-packages (from requests>=2.24.0->databento) (2.2.2)\n",
      "Requirement already satisfied: certifi>=2017.4.17 in /opt/miniconda3/envs/ibkr/lib/python3.12/site-packages (from requests>=2.24.0->databento) (2024.8.30)\n",
      "Requirement already satisfied: six>=1.5 in /opt/miniconda3/envs/ibkr/lib/python3.12/site-packages (from python-dateutil>=2.8.2->pandas>=1.5.3->databento) (1.16.0)\n",
      "Downloading databento-0.42.0-py3-none-any.whl (80 kB)\n",
      "\u001b[2K   \u001b[90m━━━━━━━━━━━━━━━━━━━━━━━━━━━━━━━━━━━━━━━━\u001b[0m \u001b[32m80.0/80.0 kB\u001b[0m \u001b[31m7.4 MB/s\u001b[0m eta \u001b[36m0:00:00\u001b[0m\n",
      "\u001b[?25hDownloading databento_dbn-0.20.1-cp312-cp312-macosx_10_12_x86_64.macosx_11_0_arm64.macosx_10_12_universal2.whl (2.5 MB)\n",
      "\u001b[2K   \u001b[90m━━━━━━━━━━━━━━━━━━━━━━━━━━━━━━━━━━━━━━━━\u001b[0m \u001b[32m2.5/2.5 MB\u001b[0m \u001b[31m10.1 MB/s\u001b[0m eta \u001b[36m0:00:00\u001b[0m00:01\u001b[0m00:01\u001b[0m\n",
      "\u001b[?25hDownloading aiohttp-3.10.6-cp312-cp312-macosx_11_0_arm64.whl (390 kB)\n",
      "\u001b[2K   \u001b[90m━━━━━━━━━━━━━━━━━━━━━━━━━━━━━━━━━━━━━━━━\u001b[0m \u001b[32m390.5/390.5 kB\u001b[0m \u001b[31m20.3 MB/s\u001b[0m eta \u001b[36m0:00:00\u001b[0m\n",
      "\u001b[?25hDownloading pyarrow-17.0.0-cp312-cp312-macosx_11_0_arm64.whl (27.2 MB)\n",
      "\u001b[2K   \u001b[90m━━━━━━━━━━━━━━━━━━━━━━━━━━━━━━━━━━━━━━━━\u001b[0m \u001b[32m27.2/27.2 MB\u001b[0m \u001b[31m18.2 MB/s\u001b[0m eta \u001b[36m0:00:00\u001b[0m00:01\u001b[0m00:01\u001b[0m\n",
      "\u001b[?25hDownloading zstandard-0.23.0-cp312-cp312-macosx_11_0_arm64.whl (633 kB)\n",
      "\u001b[2K   \u001b[90m━━━━━━━━━━━━━━━━━━━━━━━━━━━━━━━━━━━━━━━━\u001b[0m \u001b[32m633.5/633.5 kB\u001b[0m \u001b[31m10.0 MB/s\u001b[0m eta \u001b[36m0:00:00\u001b[0m00:01\u001b[0m\n",
      "\u001b[?25hDownloading aiohappyeyeballs-2.4.0-py3-none-any.whl (12 kB)\n",
      "Downloading aiosignal-1.3.1-py3-none-any.whl (7.6 kB)\n",
      "Downloading frozenlist-1.4.1-cp312-cp312-macosx_11_0_arm64.whl (51 kB)\n",
      "\u001b[2K   \u001b[90m━━━━━━━━━━━━━━━━━━━━━━━━━━━━━━━━━━━━━━━━\u001b[0m \u001b[32m51.9/51.9 kB\u001b[0m \u001b[31m3.9 MB/s\u001b[0m eta \u001b[36m0:00:00\u001b[0m\n",
      "\u001b[?25hDownloading multidict-6.1.0-cp312-cp312-macosx_11_0_arm64.whl (29 kB)\n",
      "Downloading yarl-1.12.1-cp312-cp312-macosx_11_0_arm64.whl (112 kB)\n",
      "\u001b[2K   \u001b[90m━━━━━━━━━━━━━━━━━━━━━━━━━━━━━━━━━━━━━━━━\u001b[0m \u001b[32m112.9/112.9 kB\u001b[0m \u001b[31m14.9 MB/s\u001b[0m eta \u001b[36m0:00:00\u001b[0m\n",
      "\u001b[?25hInstalling collected packages: zstandard, pyarrow, multidict, frozenlist, databento-dbn, aiohappyeyeballs, yarl, aiosignal, aiohttp, databento\n",
      "Successfully installed aiohappyeyeballs-2.4.0 aiohttp-3.10.6 aiosignal-1.3.1 databento-0.42.0 databento-dbn-0.20.1 frozenlist-1.4.1 multidict-6.1.0 pyarrow-17.0.0 yarl-1.12.1 zstandard-0.23.0\n"
     ]
    }
   ],
   "source": [
    "!pip install databento"
   ]
  },
  {
   "cell_type": "code",
   "execution_count": 29,
   "metadata": {},
   "outputs": [
    {
     "name": "stdout",
     "output_type": "stream",
     "text": [
      "Cost: 69.988660946488\n",
      "Record count: 521,873,281\n",
      "Billable size: 41749862480\n",
      "Size in GB: 38.88258941471577\n"
     ]
    }
   ],
   "source": [
    "import databento as db\n",
    "\n",
    "client = db.Historical(\"db-dJcLuMNqLDSHyUc4xWFB5y8Prvub3\")\n",
    "\n",
    "params = {\n",
    "    \"dataset\": \"GLBX.MDP3\",\n",
    "    \"symbols\": \"ESU4\",\n",
    "    \"schema\": \"mbp-1\",\n",
    "    \"start\": \"2024-01-01\",\n",
    "    \"end\": \"2024-9-25\"\n",
    "}\n",
    "\n",
    "cost = client.metadata.get_cost(**params)\n",
    "record_count = client.metadata.get_record_count(**params)\n",
    "billable_size = client.metadata.get_billable_size(**params)\n",
    "size_gb = billable_size / 1024 / 1024 / 1024\n",
    "\n",
    "print(f\"Cost: {cost}\")\n",
    "print(f\"Record count: {record_count:,}\")\n",
    "print(f\"Billable size: {billable_size}\")\n",
    "print(f\"Size in GB: {size_gb}\")"
   ]
  },
  {
   "cell_type": "code",
   "execution_count": 28,
   "metadata": {},
   "outputs": [
    {
     "name": "stdout",
     "output_type": "stream",
     "text": [
      "\n",
      "client.metadata.get_cost(**params)=62.694827377796\n",
      "client.metadata.get_record_count(**params)=467486516\n",
      "client.metadata.get_billable_size(**params)=37398921280\n",
      "\n"
     ]
    }
   ],
   "source": [
    "print(\"\"\"\n",
    "client.metadata.get_cost(**params)=62.694827377796\n",
    "client.metadata.get_record_count(**params)=467486516\n",
    "client.metadata.get_billable_size(**params)=37398921280\n",
    "\"\"\")"
   ]
  },
  {
   "cell_type": "code",
   "execution_count": null,
   "metadata": {},
   "outputs": [],
   "source": [
    "# order the data \n",
    "data = "
   ]
  }
 ],
 "metadata": {
  "kernelspec": {
   "display_name": "ibkr",
   "language": "python",
   "name": "python3"
  },
  "language_info": {
   "codemirror_mode": {
    "name": "ipython",
    "version": 3
   },
   "file_extension": ".py",
   "mimetype": "text/x-python",
   "name": "python",
   "nbconvert_exporter": "python",
   "pygments_lexer": "ipython3",
   "version": "3.12.4"
  }
 },
 "nbformat": 4,
 "nbformat_minor": 2
}
