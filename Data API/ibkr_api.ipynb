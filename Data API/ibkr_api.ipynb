{
 "cells": [
  {
   "cell_type": "code",
   "execution_count": 26,
   "metadata": {},
   "outputs": [],
   "source": [
    "from ibapi.client import EClient\n",
    "from ibapi.wrapper import EWrapper\n",
    "from ibapi.contract import Contract\n",
    "import threading\n",
    "import time\n",
    "\n",
    "class IBApi(EWrapper, EClient):\n",
    "    def __init__(self):\n",
    "        EClient.__init__(self, self)\n",
    "        self.tick_data = []\n",
    "\n",
    "    def historicalTicks(self, reqId, ticks, done):\n",
    "        print(\"Historical Tick Data. ReqId:\", reqId)\n",
    "        for tick in ticks:\n",
    "            print(f\"Tick: {tick.time}, Price: {tick.price}, Size: {tick.size}\")\n",
    "            self.tick_data.append((tick.time, tick.price, tick.size))\n",
    "        print(\"Done with historical ticks\")\n",
    "\n",
    "    def historicalTicksBidAsk(self, reqId, ticks, done):\n",
    "        print(\"Historical Tick Bid/Ask Data. ReqId:\", reqId)\n",
    "        for tick in ticks:\n",
    "            print(f\"Tick: {tick.time}, Bid Price: {tick.priceBid}, Ask Price: {tick.priceAsk}\")\n",
    "            self.tick_data.append((tick.time, tick.priceBid, tick.priceAsk))\n",
    "        print(\"Done with historical ticks bid/ask\")\n",
    "\n",
    "    def historicalTicksLast(self, reqId, ticks, done):\n",
    "        print(\"Historical Tick Last Data. ReqId:\", reqId)\n",
    "        for tick in ticks:\n",
    "            print(f\"Tick: {tick.time}, Price: {tick.price}, Size: {tick.size}\")\n",
    "            self.tick_data.append((tick.time, tick.price, tick.size))\n",
    "        print(\"Done with historical ticks last\")\n",
    "\n",
    "    def tickPrice(self, reqId, tickType, price, attrib):\n",
    "        print(f\"Tick Price. Ticker Id: {reqId}, tickType: {tickType}, Price: {price}\")\n",
    "\n",
    "    def tickSize(self, reqId, tickType, size):\n",
    "        print(f\"Tick Size. Ticker Id: {reqId}, tickType: {tickType}, Size: {size}\")\n"
   ]
  },
  {
   "cell_type": "code",
   "execution_count": 27,
   "metadata": {},
   "outputs": [
    {
     "name": "stderr",
     "output_type": "stream",
     "text": [
      "ERROR -1 2104 Market data farm connection is OK:usfarm.nj\n",
      "ERROR -1 2104 Market data farm connection is OK:usfuture\n",
      "ERROR -1 2104 Market data farm connection is OK:cashfarm\n",
      "ERROR -1 2104 Market data farm connection is OK:usfarm\n",
      "ERROR -1 2106 HMDS data farm connection is OK:ushmds\n",
      "ERROR -1 2158 Sec-def data farm connection is OK:secdefnj\n"
     ]
    }
   ],
   "source": [
    "app = IBApi()\n",
    "app.connect(\"127.0.0.1\", 7496, 0)\n",
    "\n",
    "api_thread = threading.Thread(target=app.run, daemon=True)\n",
    "api_thread.start()\n",
    "\n",
    "time.sleep(1)  # Sleep to ensure connection is established"
   ]
  },
  {
   "cell_type": "code",
   "execution_count": 23,
   "metadata": {},
   "outputs": [
    {
     "data": {
      "text/plain": [
       "[(1721811549, 5562.75, Decimal('4')),\n",
       " (1721811549, 5562.75, Decimal('4')),\n",
       " (1721811549, 5562.75, Decimal('2')),\n",
       " (1721811549, 5562.75, Decimal('5')),\n",
       " (1721811549, 5562.75, Decimal('3')),\n",
       " (1721811550, 5562.75, Decimal('1')),\n",
       " (1721811550, 5562.75, Decimal('2')),\n",
       " (1721811550, 5562.75, Decimal('4')),\n",
       " (1721811550, 5562.75, Decimal('1')),\n",
       " (1721811551, 5562.75, Decimal('1')),\n",
       " (1721811551, 5562.75, Decimal('1')),\n",
       " (1721812088, 5561.0, Decimal('1')),\n",
       " (1721812088, 5561.0, Decimal('9')),\n",
       " (1721812090, 5561.25, Decimal('1')),\n",
       " (1721812093, 5561.25, Decimal('2')),\n",
       " (1721812093, 5561.25, Decimal('4')),\n",
       " (1721812093, 5561.25, Decimal('1')),\n",
       " (1721812093, 5561.25, Decimal('1')),\n",
       " (1721812104, 5561.5, Decimal('1')),\n",
       " (1721812105, 5561.25, Decimal('4')),\n",
       " (1721812105, 5561.25, Decimal('1')),\n",
       " (1721812105, 5561.25, Decimal('3'))]"
      ]
     },
     "execution_count": 23,
     "metadata": {},
     "output_type": "execute_result"
    }
   ],
   "source": [
    "def format_time(t):\n",
    "    format = \"%Y%m%d %H:%M:%S\" #US/Eastern\"\n",
    "    return time.strftime(format, time.localtime(t))\n",
    "\n",
    "def now():\n",
    "    return format_time(time.time())\n",
    "    \n",
    "\n",
    "contract = Contract()\n",
    "contract.symbol = \"ES\"\n",
    "contract.secType = \"CONTFUT\"\n",
    "contract.exchange = \"CME\"\n",
    "contract.currency = \"USD\"\n",
    "contract.lastTradeDateOrContractMonth = \"202409\"  # Example for September 2024 contract\n",
    "\n",
    "# app.reqMktData(1, contract, \"\", False, False, [])\n",
    "app.reqHistoricalTicks(\n",
    "    reqId=1,\n",
    "    contract=contract,\n",
    "    # startDateTime=\"20240724 04:17:21\",\n",
    "    startDateTime=\"\",\n",
    "    # endDateTime=\"20240724 05:00:51\",\n",
    "    endDateTime=now(),\n",
    "    numberOfTicks=10,\n",
    "    whatToShow=\"TRADES\",\n",
    "    useRth=0,\n",
    "    ignoreSize=False,\n",
    "    miscOptions=[],\n",
    ")\n",
    "\n",
    "time.sleep(10)  # Adjust based on how long you want to collect data\n",
    "app.tick_data"
   ]
  },
  {
   "cell_type": "code",
   "execution_count": 24,
   "metadata": {},
   "outputs": [
    {
     "data": {
      "text/plain": [
       "[(1721811549, 5562.75, Decimal('4')),\n",
       " (1721811549, 5562.75, Decimal('4')),\n",
       " (1721811549, 5562.75, Decimal('2')),\n",
       " (1721811549, 5562.75, Decimal('5')),\n",
       " (1721811549, 5562.75, Decimal('3')),\n",
       " (1721811550, 5562.75, Decimal('1')),\n",
       " (1721811550, 5562.75, Decimal('2')),\n",
       " (1721811550, 5562.75, Decimal('4')),\n",
       " (1721811550, 5562.75, Decimal('1')),\n",
       " (1721811551, 5562.75, Decimal('1')),\n",
       " (1721811551, 5562.75, Decimal('1')),\n",
       " (1721812088, 5561.0, Decimal('1')),\n",
       " (1721812088, 5561.0, Decimal('9')),\n",
       " (1721812090, 5561.25, Decimal('1')),\n",
       " (1721812093, 5561.25, Decimal('2')),\n",
       " (1721812093, 5561.25, Decimal('4')),\n",
       " (1721812093, 5561.25, Decimal('1')),\n",
       " (1721812093, 5561.25, Decimal('1')),\n",
       " (1721812104, 5561.5, Decimal('1')),\n",
       " (1721812105, 5561.25, Decimal('4')),\n",
       " (1721812105, 5561.25, Decimal('1')),\n",
       " (1721812105, 5561.25, Decimal('3'))]"
      ]
     },
     "execution_count": 24,
     "metadata": {},
     "output_type": "execute_result"
    }
   ],
   "source": [
    "app.tick_data"
   ]
  },
  {
   "cell_type": "code",
   "execution_count": 29,
   "metadata": {},
   "outputs": [],
   "source": [
    "app.disconnect()"
   ]
  },
  {
   "cell_type": "code",
   "execution_count": null,
   "metadata": {},
   "outputs": [],
   "source": []
  }
 ],
 "metadata": {
  "kernelspec": {
   "display_name": "ibkr",
   "language": "python",
   "name": "python3"
  },
  "language_info": {
   "codemirror_mode": {
    "name": "ipython",
    "version": 3
   },
   "file_extension": ".py",
   "mimetype": "text/x-python",
   "name": "python",
   "nbconvert_exporter": "python",
   "pygments_lexer": "ipython3",
   "version": "3.12.4"
  }
 },
 "nbformat": 4,
 "nbformat_minor": 2
}
