{
 "cells": [
  {
   "cell_type": "code",
   "execution_count": null,
   "metadata": {},
   "outputs": [],
   "source": [
    "from tqdm import tqdm\n",
    "import pandas as pd\n",
    "from datetime import datetime\n",
    "import pytz\n",
    "import plotly.graph_objects as go\n",
    "\n",
    "import sys; sys.path.append(\"..\")\n",
    "from bars.imbalance_bars import tick_imbalance_bars, volume_imbalance_bars\n",
    "from utils.visualizations.plot_bars_on_prices import plot_bars_on_prices"
   ]
  },
  {
   "cell_type": "markdown",
   "metadata": {},
   "source": [
    "### Filter ES ticks into a single continous contract"
   ]
  },
  {
   "cell_type": "code",
   "execution_count": null,
   "metadata": {},
   "outputs": [],
   "source": [
    "csv = \"../../../../Historical Data/ES-Futures-Ticks-20230807-20240806.trades.csv\" # input\n",
    "filtered_csv = \"../../../../Historical Data/ES-Futures-Ticks-20230807-20240806.trades.filtered.csv\" # output\n",
    "\n",
    "with open(csv, \"r\") as f:\n",
    "    for i in f:\n",
    "        print(\"Column headers: \\n\", \"\\n\".join(\n",
    "            [str(x) for x in enumerate(i.split(\",\"))]))\n",
    "        break"
   ]
  },
  {
   "cell_type": "code",
   "execution_count": null,
   "metadata": {},
   "outputs": [],
   "source": [
    "\"\"\"\n",
    "We want ts_event as time, price, size as volume, symbol\n",
    "So we want column numbers 1, 8, 9, 13\n",
    "The symbols we want are ESU3, ESZ3, ESH4, ESM4, ESU4\n",
    "\"\"\"\n",
    "data = {\"time\" : [], \"price\" : [], \"volume\" : [], \"symbol\" : []}\n",
    "with open(csv, \"r\") as f:\n",
    "    for i, line in enumerate(tqdm(f, total=106615135)):\n",
    "        if i == 0:\n",
    "            continue\n",
    "        line = line.strip().split(\",\")\n",
    "        if line[13] not in [\"ESU3\", \"ESZ3\", \"ESH4\", \"ESM4\", \"ESU4\"]:\n",
    "            continue\n",
    "        data[\"time\"].append(line[1])\n",
    "        data[\"price\"].append(line[8])\n",
    "        data[\"volume\"].append(line[9])\n",
    "        data[\"symbol\"].append(line[13])"
   ]
  },
  {
   "cell_type": "code",
   "execution_count": null,
   "metadata": {},
   "outputs": [],
   "source": [
    "\"\"\"\n",
    "We start to see some trades of ESZ3 appearing during the ESU3 contract\n",
    "Let's further filter the data so that each contract reaches its end date\n",
    "prior to admitting prices from the next contract\n",
    "To do this, we need to identify the end index of each contract\n",
    "\"\"\"\n",
    "esu3_end = 0\n",
    "esz3_end = 0\n",
    "esh4_end = 0\n",
    "esm4_end = 0\n",
    "\n",
    "for i, s in enumerate(tqdm(data[\"symbol\"])):\n",
    "    if s == \"ESU3\":\n",
    "        esu3_end = i\n",
    "    elif s == \"ESZ3\":\n",
    "        esz3_end = i\n",
    "    elif s == \"ESH4\":\n",
    "        esh4_end = i\n",
    "    elif s == \"ESM4\":\n",
    "        esm4_end = i\n",
    "\n",
    "print(esu3_end, esz3_end, esh4_end, esm4_end)"
   ]
  },
  {
   "cell_type": "code",
   "execution_count": null,
   "metadata": {},
   "outputs": [],
   "source": [
    "print(f\"\"\"\n",
    "ESU3: {data[\"time\"][0]} - {data[\"time\"][esu3_end]}\n",
    "ESZ3: {data[\"time\"][esu3_end]} - {data[\"time\"][esz3_end]}\n",
    "ESH4: {data[\"time\"][esz3_end]} - {data[\"time\"][esh4_end]}\n",
    "ESM4: {data[\"time\"][esh4_end]} - {data[\"time\"][esm4_end]}\n",
    "      \"\"\".strip())"
   ]
  },
  {
   "cell_type": "code",
   "execution_count": null,
   "metadata": {},
   "outputs": [],
   "source": [
    "filtered_data = {\"time\" : [], \"price\" : [], \"volume\" : [], \"symbol\" : []}\n",
    "for i in tqdm(range(len(data[\"symbol\"]))):\n",
    "    if (i <= esu3_end and data[\"symbol\"][i] == \"ESU3\") or \\\n",
    "       (i > esu3_end and i <= esz3_end and data[\"symbol\"][i] == \"ESZ3\") or \\\n",
    "       (i > esz3_end and i <= esh4_end and data[\"symbol\"][i] == \"ESH4\") or \\\n",
    "       (i > esh4_end and i <= esm4_end and data[\"symbol\"][i] == \"ESM4\") or \\\n",
    "       (i > esm4_end and data[\"symbol\"][i] == \"ESU4\"):\n",
    "        filtered_data[\"time\"].append(data[\"time\"][i])\n",
    "        filtered_data[\"price\"].append(data[\"price\"][i])\n",
    "        filtered_data[\"volume\"].append(data[\"volume\"][i])\n",
    "        filtered_data[\"symbol\"].append(data[\"symbol\"][i])\n"
   ]
  },
  {
   "cell_type": "code",
   "execution_count": null,
   "metadata": {},
   "outputs": [],
   "source": [
    "len(data[\"symbol\"]), len(filtered_data[\"symbol\"])"
   ]
  },
  {
   "cell_type": "code",
   "execution_count": null,
   "metadata": {},
   "outputs": [],
   "source": [
    "with open (filtered_csv, \"w\") as f:\n",
    "    f.write(\"time,price,volume,symbol\\n\")\n",
    "    for i in tqdm(range(len(filtered_data[\"symbol\"]))):\n",
    "        f.write(f\"{filtered_data['time'][i]},{filtered_data['price'][i]},{filtered_data['volume'][i]},{filtered_data['symbol'][i]}\\n\")"
   ]
  },
  {
   "cell_type": "markdown",
   "metadata": {},
   "source": [
    "### Above data is filtered and saved. Proceed from here"
   ]
  },
  {
   "cell_type": "code",
   "execution_count": null,
   "metadata": {},
   "outputs": [],
   "source": [
    "from tqdm import tqdm\n",
    "import pandas as pd\n",
    "from datetime import datetime\n",
    "import pytz\n",
    "import plotly.graph_objects as go\n",
    "\n",
    "import sys; sys.path.append(\"..\")\n",
    "from bars.imbalance_bars import tick_imbalance_bars, volume_imbalance_bars\n",
    "from utils.visualizations.plot_bars_on_prices import plot_bars_on_prices"
   ]
  },
  {
   "cell_type": "code",
   "execution_count": null,
   "metadata": {},
   "outputs": [],
   "source": [
    "filtered_csv = \"../../../../Historical Data/ES-Futures-Ticks-20230807-20240806.trades.filtered.csv\" # now input\n",
    "\n",
    "data = {\"time\" : [], \"price\" : [], \"volume\" : [], \"symbol\" : []}\n",
    "with open(filtered_csv, \"r\") as f:\n",
    "    for i, line in enumerate(tqdm(f, total=82971690)):\n",
    "        if i == 0:\n",
    "            continue\n",
    "        if i > 5000000:\n",
    "            break\n",
    "        line = line.strip().split(\",\")\n",
    "        data[\"time\"].append(datetime.fromisoformat(line[0].rstrip(\"Z\")).replace(tzinfo=pytz.utc).astimezone(pytz.timezone(\"US/Eastern\")))\n",
    "        data[\"price\"].append(float(line[1]))\n",
    "        data[\"volume\"].append(float(line[2]))\n",
    "        data[\"symbol\"].append(line[3])"
   ]
  },
  {
   "cell_type": "code",
   "execution_count": null,
   "metadata": {},
   "outputs": [],
   "source": [
    "bars = volume_imbalance_bars(data, alpha=0.02, et_init=15, verbose=True)"
   ]
  },
  {
   "cell_type": "code",
   "execution_count": null,
   "metadata": {},
   "outputs": [],
   "source": [
    "len(bars['start_idx'])"
   ]
  },
  {
   "cell_type": "code",
   "execution_count": null,
   "metadata": {},
   "outputs": [],
   "source": [
    "plot_bars_on_prices(data, pd.DataFrame(bars))"
   ]
  },
  {
   "cell_type": "code",
   "execution_count": null,
   "metadata": {},
   "outputs": [],
   "source": []
  }
 ],
 "metadata": {
  "kernelspec": {
   "display_name": "finance",
   "language": "python",
   "name": "python3"
  },
  "language_info": {
   "codemirror_mode": {
    "name": "ipython",
    "version": 3
   },
   "file_extension": ".py",
   "mimetype": "text/x-python",
   "name": "python",
   "nbconvert_exporter": "python",
   "pygments_lexer": "ipython3",
   "version": "3.12.4"
  }
 },
 "nbformat": 4,
 "nbformat_minor": 2
}
