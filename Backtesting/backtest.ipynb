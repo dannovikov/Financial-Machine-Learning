{
 "cells": [
  {
   "cell_type": "code",
   "execution_count": 1,
   "metadata": {},
   "outputs": [
    {
     "data": {
      "text/plain": [
       "'/Users/dan/Documents/Finance/Programs/Financial Machine Learning/Backtesting'"
      ]
     },
     "execution_count": 1,
     "metadata": {},
     "output_type": "execute_result"
    }
   ],
   "source": [
    "import os;\n",
    "os.getcwd()"
   ]
  },
  {
   "cell_type": "code",
   "execution_count": 2,
   "metadata": {},
   "outputs": [],
   "source": [
    "import pandas as pd\n",
    "from tqdm import tqdm\n",
    "import sys\n",
    "from datetime import datetime\n",
    "# custom imports from this repo\n",
    "sys.path.append(\"../Financial Data Structures\")\n",
    "from utils.read_data import read_ticks"
   ]
  },
  {
   "cell_type": "code",
   "execution_count": 3,
   "metadata": {},
   "outputs": [
    {
     "name": "stderr",
     "output_type": "stream",
     "text": [
      "82971691it [01:37, 855195.98it/s]                              \n"
     ]
    }
   ],
   "source": [
    "ticks = \"/Users/dan/Documents/Finance/Historical Data/ES-Futures-Ticks-20230807-20240806.trades.filtered.csv\"\n",
    "# data = read_ticks(ticks, nrows=None, date_handling=\"epoch\")\n",
    "\n",
    "\n",
    "\n",
    "process_date = lambda x: datetime.fromisoformat(x).timestamp()\n",
    "\n",
    "t = 0\n",
    "with open(ticks, \"r\") as f:\n",
    "    for i, line in enumerate(f):\n",
    "        if i == 1:\n",
    "            line = line.strip().split(\",\")\n",
    "            t = process_date(line[0])\n",
    "            break\n",
    "\n",
    "skipped = 0 \n",
    "data = {\"time\": [], \"price\": [], \"volume\": [], \"symbol\": []}\n",
    "with open(ticks, \"r\") as f:\n",
    "    for i, line in enumerate(tqdm(f, total=82971690)):\n",
    "        if i == 0:\n",
    "            continue\n",
    "        line = line.strip().split(\",\")\n",
    "        time = process_date(line[0])\n",
    "        if time < t:\n",
    "            skipped += 1\n",
    "            continue\n",
    "        t += 0.25\n",
    "        data[\"time\"].append(process_date(line[0]))\n",
    "        data[\"price\"].append(float(line[1]))\n",
    "        data[\"volume\"].append(float(line[2]))\n",
    "        data[\"symbol\"].append(line[3])\n"
   ]
  },
  {
   "cell_type": "code",
   "execution_count": 4,
   "metadata": {},
   "outputs": [],
   "source": [
    "# #I want to sample the price every 250 ms\n",
    "# subsampled = {'time': [], 'price': [], 'volume': [], 'symbol': []}\n",
    "# time_ms = data['time'][0]\n",
    "# skipped = 0\n",
    "# for i in tqdm(range(len(data['time']))):\n",
    "#     last_price = data['price'][i]\n",
    "#     if data['time'][i] < time_ms:\n",
    "#         skipped += 1\n",
    "#         continue\n",
    "#     time_ms += 0.25\n",
    "#     subsampled['time'].append(time_ms)\n",
    "#     subsampled['price'].append(last_price)\n",
    "#     subsampled['volume'].append(data['volume'][i])\n",
    "#     subsampled['symbol'].append(data['symbol'][i])\n",
    "\n",
    "# f\"{skipped=}\""
   ]
  },
  {
   "cell_type": "code",
   "execution_count": 5,
   "metadata": {},
   "outputs": [
    {
     "name": "stderr",
     "output_type": "stream",
     "text": [
      " 82%|████████▏ | 67175479/82181655 [53:36<11:17, 22135.11it/s]  "
     ]
    }
   ],
   "source": [
    "\"\"\"\n",
    "let prices be the last N=600 tick prices (sampled every 250 ms)\n",
    "        # --- Strategy ---\n",
    "        mu = np.mean(prices)\n",
    "        std = np.std(prices)\n",
    "\n",
    "        upper_band.append(mu + 2 * std)\n",
    "        lower_band.append(mu - 2 * std)\n",
    "\n",
    "        if app.qty == 1:\n",
    "            app.current_profit = (app.last_price - app.open_price) * app.leverage - app.trade_cost\n",
    "        elif app.qty == -1:\n",
    "            app.current_profit = (app.open_price - app.last_price) * app.leverage - app.trade_cost\n",
    "\n",
    "        if len(prices) == window:\n",
    "            if app.qty == 0:\n",
    "                if app.last_price < lower_band[-1] - app.trade_cost:\n",
    "                    app.buy(contract, 1)\n",
    "                    app.qty = 1\n",
    "                    app.mean_side = \"under\"\n",
    "                    print(\"Price is under the lower band. Buying 1 contract.\")\n",
    "                elif app.last_price > upper_band[-1] + app.trade_cost:\n",
    "                    app.sell(contract, 1)\n",
    "                    app.qty = -1\n",
    "                    app.mean_side = \"over\"\n",
    "                    print(\"Price is over the upper band. Selling 1 contract.\")\n",
    "            elif app.qty == 1:\n",
    "                if app.last_price >= mu and app.mean_side == \"under\":\n",
    "                    app.sell(contract, 1)\n",
    "                    app.qty = 0\n",
    "                    app.mean_side = \"over\"\n",
    "                    print(\"Price is above the mean. Selling 1 contract.\")\n",
    "            elif app.qty == -1:\n",
    "                if app.last_price <= mu and app.mean_side == \"over\":\n",
    "                    app.buy(contract, 1)\n",
    "                    app.qty = 0\n",
    "                    app.mean_side = \"under\"\n",
    "                    print(\"Price is below the mean. Buying 1 contract.\")\n",
    "\n",
    "\"\"\"\n",
    "\"\"\"\n",
    " we are going to simulate this strategy. There is no longer an app object.\n",
    "\n",
    " App had these properties:\n",
    "        self.mean_side = None\n",
    "        self.qty = 0\n",
    "        self.open_price = 0\n",
    "        self.open_dir = None (\"buy\" or \"sell\")\n",
    "        self.leverage = 50  # ES futures leverage\n",
    "        self.commission = 2.25  # ES commission per contract\n",
    "        self.trade_cost = self.commission * 2 / self.leverage\n",
    "\n",
    "        self.current_profit = 0\n",
    "        self.total_profit = 0\n",
    "\n",
    "we will need to track these properties in the simulation\n",
    " we assume 1 tick of slippage against us on each trade\n",
    "\"\"\"\n",
    "\n",
    "from collections import deque\n",
    "import numpy as np\n",
    "\n",
    "window = 600\n",
    "prices = deque(maxlen=window)\n",
    "upper_band = 0\n",
    "lower_band = 0\n",
    "mu = 0\n",
    "std = 0\n",
    "qty = 0\n",
    "open_price = 0\n",
    "current_profit = 0\n",
    "total_profit = 0\n",
    "commission = 2.25\n",
    "leverage = 50\n",
    "trade_cost = commission * 2 / leverage\n",
    "\n",
    "\n",
    "buys = []\n",
    "sells = []\n",
    "holding_periods = []\n",
    "\n",
    "for i in tqdm(range(len(data['time']))):\n",
    "    last_price = data['price'][i]\n",
    "    prices.append(last_price)\n",
    "    if len(prices) < window:\n",
    "        continue\n",
    "\n",
    "    mu = np.mean(prices)\n",
    "    std = np.std(prices)\n",
    "\n",
    "    upper_band = mu + 2 * std\n",
    "    lower_band = mu - 2 * std\n",
    "\n",
    "    if qty == 1:\n",
    "        current_profit = (last_price - open_price) * leverage - trade_cost\n",
    "    elif qty == -1:\n",
    "        current_profit = (open_price - last_price) * leverage - trade_cost\n",
    "\n",
    "    if qty == 0: \n",
    "        if last_price < lower_band - trade_cost:\n",
    "            open_price = last_price\n",
    "            qty = 1\n",
    "            mean_side = \"under\"\n",
    "            buys.append(i)\n",
    "\n",
    "        elif last_price > upper_band + trade_cost:\n",
    "            open_price = last_price\n",
    "            qty = -1\n",
    "            mean_side = \"over\"\n",
    "            sells.append(i)\n",
    "\n",
    "    elif qty == 1:\n",
    "        if last_price >= mu and mean_side == \"under\":\n",
    "            open_price = last_price\n",
    "            qty = 0\n",
    "            mean_side = \"over\"\n",
    "            total_profit += current_profit\n",
    "            sells.append(i)\n",
    "            holding_periods.append(sells[-1] - buys[-1])\n",
    "\n",
    "    elif qty == -1:\n",
    "        if last_price <= mu and mean_side == \"over\":\n",
    "            open_price = last_price\n",
    "            qty = 0\n",
    "            mean_side = \"under\"\n",
    "            total_profit += current_profit\n",
    "            buys.append(i)\n",
    "            holding_periods.append(buys[-1] - sells[-1])\n",
    "\n",
    "\n",
    "f\"{total_profit=}\\n{np.mean(holding_periods)=}\"\n",
    "\n",
    "\n"
   ]
  },
  {
   "cell_type": "code",
   "execution_count": null,
   "metadata": {},
   "outputs": [
    {
     "data": {
      "image/png": "[encoded data removed]",
      "text/plain": [
       "<Figure size 640x480 with 1 Axes>"
      ]
     },
     "metadata": {},
     "output_type": "display_data"
    }
   ],
   "source": [
    "# plot the prices with markers for buys and sells\n",
    "import matplotlib.pyplot as plt\n",
    "plt.plot(subsampled['price'])\n",
    "plt.scatter(buys, [subsampled['price'][i] for i in buys], color='green', marker='triangle_up')\n",
    "plt.scatter(sells, [subsampled['price'][i] for i in sells], color='red', marker='triangle_down')\n",
    "plt.show()"
   ]
  },
  {
   "cell_type": "code",
   "execution_count": null,
   "metadata": {},
   "outputs": [],
   "source": []
  }
 ],
 "metadata": {
  "kernelspec": {
   "display_name": "finance",
   "language": "python",
   "name": "python3"
  },
  "language_info": {
   "codemirror_mode": {
    "name": "ipython",
    "version": 3
   },
   "file_extension": ".py",
   "mimetype": "text/x-python",
   "name": "python",
   "nbconvert_exporter": "python",
   "pygments_lexer": "ipython3",
   "version": "3.12.4"
  }
 },
 "nbformat": 4,
 "nbformat_minor": 2
}
