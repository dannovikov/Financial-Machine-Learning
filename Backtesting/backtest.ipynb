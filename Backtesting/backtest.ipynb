{
 "cells": [
  {
   "cell_type": "code",
   "execution_count": 1,
   "metadata": {},
   "outputs": [
    {
     "data": {
      "text/plain": [
       "'/Users/dan/Documents/Finance/Programs/Financial Machine Learning/Backtesting'"
      ]
     },
     "execution_count": 1,
     "metadata": {},
     "output_type": "execute_result"
    }
   ],
   "source": [
    "import os;\n",
    "os.getcwd()"
   ]
  },
  {
   "cell_type": "code",
   "execution_count": 2,
   "metadata": {},
   "outputs": [],
   "source": [
    "import pandas as pd\n",
    "from tqdm import tqdm\n",
    "import sys\n",
    "from datetime import datetime\n",
    "# custom imports from this repo\n",
    "sys.path.append(\"../Financial Data Structures\")\n",
    "from utils.read_data import read_ticks"
   ]
  },
  {
   "cell_type": "code",
   "execution_count": 3,
   "metadata": {},
   "outputs": [
    {
     "name": "stderr",
     "output_type": "stream",
     "text": [
      "82971691it [01:37, 855195.98it/s]                              \n"
     ]
    }
   ],
   "source": [
    "ticks = \"/Users/dan/Documents/Finance/Historical Data/ES-Futures-Ticks-20230807-20240806.trades.filtered.csv\"\n",
    "# data = read_ticks(ticks, nrows=None, date_handling=\"epoch\")\n",
    "\n",
    "process_date = lambda x: datetime.fromisoformat(x).timestamp()\n",
    "\n",
    "t = 0\n",
    "with open(ticks, \"r\") as f:\n",
    "    for i, line in enumerate(f):\n",
    "        if i == 1:\n",
    "            line = line.strip().split(\",\")\n",
    "            t = process_date(line[0])\n",
    "            break\n",
    "\n",
    "skipped = 0 \n",
    "data = {\"time\": [], \"price\": [], \"volume\": [], \"symbol\": []}\n",
    "with open(ticks, \"r\") as f:\n",
    "    for i, line in enumerate(tqdm(f, total=82971690)):\n",
    "        if i == 0:\n",
    "            continue\n",
    "        line = line.strip().split(\",\")\n",
    "        time = process_date(line[0])\n",
    "        if time < t:\n",
    "            skipped += 1\n",
    "            continue\n",
    "        t += 0.25\n",
    "        data[\"time\"].append(process_date(line[0]))\n",
    "        data[\"price\"].append(float(line[1]))\n",
    "        data[\"volume\"].append(float(line[2]))\n",
    "        data[\"symbol\"].append(line[3])\n"
   ]
  },
  {
   "cell_type": "code",
   "execution_count": 5,
   "metadata": {},
   "outputs": [
    {
     "name": "stderr",
     "output_type": "stream",
     "text": [
      "100%|██████████| 82181655/82181655 [1:05:07<00:00, 21033.37it/s]\n"
     ]
    },
    {
     "data": {
      "text/plain": [
       "'total_profit=1383684.1199983445\\nnp.mean(holding_periods)=334.76931275642056'"
      ]
     },
     "execution_count": 5,
     "metadata": {},
     "output_type": "execute_result"
    }
   ],
   "source": [
    "# Todo: Apply 1 tick of slippage to each trade\n",
    "\n",
    "from collections import deque\n",
    "import numpy as np\n",
    "\n",
    "window = 600\n",
    "prices = deque(maxlen=window)\n",
    "upper_band = 0\n",
    "lower_band = 0\n",
    "mu = 0\n",
    "std = 0\n",
    "qty = 0\n",
    "open_price = 0\n",
    "current_profit = 0\n",
    "total_profit = 0\n",
    "commission = 2.25\n",
    "leverage = 50\n",
    "trade_cost = commission * 2 / leverage\n",
    "\n",
    "\n",
    "buys = []\n",
    "sells = []\n",
    "holding_periods = []\n",
    "\n",
    "for i in tqdm(range(len(data['time']))):\n",
    "    last_price = data['price'][i]\n",
    "    prices.append(last_price)\n",
    "    if len(prices) < window:\n",
    "        continue\n",
    "\n",
    "    mu = np.mean(prices)\n",
    "    std = np.std(prices)\n",
    "\n",
    "    upper_band = mu + 2 * std\n",
    "    lower_band = mu - 2 * std\n",
    "\n",
    "    if qty == 1:\n",
    "        current_profit = (last_price - open_price) * leverage - trade_cost\n",
    "    elif qty == -1:\n",
    "        current_profit = (open_price - last_price) * leverage - trade_cost\n",
    "\n",
    "    if qty == 0: \n",
    "        if last_price < lower_band - trade_cost:\n",
    "            open_price = last_price\n",
    "            qty = 1\n",
    "            mean_side = \"under\"\n",
    "            buys.append(i)\n",
    "\n",
    "        elif last_price > upper_band + trade_cost:\n",
    "            open_price = last_price\n",
    "            qty = -1\n",
    "            mean_side = \"over\"\n",
    "            sells.append(i)\n",
    "\n",
    "    elif qty == 1:\n",
    "        if last_price >= mu and mean_side == \"under\":\n",
    "            open_price = last_price\n",
    "            qty = 0\n",
    "            mean_side = \"over\"\n",
    "            total_profit += current_profit\n",
    "            sells.append(i)\n",
    "            holding_periods.append(sells[-1] - buys[-1])\n",
    "\n",
    "    elif qty == -1:\n",
    "        if last_price <= mu and mean_side == \"over\":\n",
    "            open_price = last_price\n",
    "            qty = 0\n",
    "            mean_side = \"under\"\n",
    "            total_profit += current_profit\n",
    "            buys.append(i)\n",
    "            holding_periods.append(buys[-1] - sells[-1])\n",
    "\n",
    "\n",
    "f\"{total_profit=}\\n{np.mean(holding_periods)=}\"\n",
    "\n",
    "\n"
   ]
  },
  {
   "cell_type": "code",
   "execution_count": 6,
   "metadata": {},
   "outputs": [
    {
     "name": "stderr",
     "output_type": "stream",
     "text": [
      "Exception ignored in: <bound method IPythonKernel._clean_thread_parent_frames of <ipykernel.ipkernel.IPythonKernel object at 0x104c34470>>\n",
      "Traceback (most recent call last):\n",
      "  File \"/opt/miniconda3/envs/finance/lib/python3.12/site-packages/ipykernel/ipkernel.py\", line 775, in _clean_thread_parent_frames\n",
      "    def _clean_thread_parent_frames(\n",
      "\n",
      "KeyboardInterrupt: \n"
     ]
    }
   ],
   "source": [
    "# plot the prices with markers for buys and sells\n",
    "import matplotlib.pyplot as plt\n",
    "plt.plot(data['price'])\n",
    "plt.scatter(buys, [data['price'][i] for i in buys], color='green', marker='triangle_up')\n",
    "plt.scatter(sells, [data['price'][i] for i in sells], color='red', marker='triangle_down')\n",
    "plt.show()"
   ]
  },
  {
   "cell_type": "code",
   "execution_count": null,
   "metadata": {},
   "outputs": [],
   "source": []
  }
 ],
 "metadata": {
  "kernelspec": {
   "display_name": "finance",
   "language": "python",
   "name": "python3"
  },
  "language_info": {
   "codemirror_mode": {
    "name": "ipython",
    "version": 3
   },
   "file_extension": ".py",
   "mimetype": "text/x-python",
   "name": "python",
   "nbconvert_exporter": "python",
   "pygments_lexer": "ipython3",
   "version": "3.12.4"
  }
 },
 "nbformat": 4,
 "nbformat_minor": 2
}
