{
 "cells": [
  {
   "cell_type": "code",
   "execution_count": 1,
   "metadata": {},
   "outputs": [
    {
     "data": {
      "text/plain": [
       "'/Users/dan/Documents/Finance/Programs/Financial Machine Learning/Backtesting'"
      ]
     },
     "execution_count": 1,
     "metadata": {},
     "output_type": "execute_result"
    }
   ],
   "source": [
    "import os;\n",
    "os.getcwd()"
   ]
  },
  {
   "cell_type": "code",
   "execution_count": 2,
   "metadata": {},
   "outputs": [],
   "source": [
    "import pandas as pd\n",
    "from tqdm import tqdm\n",
    "import sys\n",
    "from datetime import datetime\n",
    "import pytz\n",
    "#padas market clandar open_at_time function\n",
    "import pandas_market_calendars as mcal\n",
    "# custom imports from this repo\n",
    "sys.path.append(\"../Financial Data Structures\")\n",
    "from utils.read_data import read_ticks"
   ]
  },
  {
   "cell_type": "code",
   "execution_count": 3,
   "metadata": {},
   "outputs": [],
   "source": [
    "cal = mcal.get_calendar(\"CME_Equity\")\n",
    "sched = cal.schedule(start_date=\"2023-01-01\", end_date=\"2024-12-31\")"
   ]
  },
  {
   "cell_type": "code",
   "execution_count": 15,
   "metadata": {},
   "outputs": [
    {
     "name": "stderr",
     "output_type": "stream",
     "text": [
      "82971691it [3:47:30, 6078.10it/s]   "
     ]
    },
    {
     "name": "stdout",
     "output_type": "stream",
     "text": [
      "skipped_closed=86649, skipped_weekend=40711, skipped_am=1499093, skipped_pm=9679328, len(data['time'])=9183770\n"
     ]
    },
    {
     "name": "stderr",
     "output_type": "stream",
     "text": [
      "\n"
     ]
    }
   ],
   "source": [
    "ticks = \"/Users/dan/Documents/Finance/Historical Data/ES-Futures-Ticks-20230807-20240806.trades.filtered.csv\"\n",
    "\n",
    "skipped_closed = 0\n",
    "skipped_weekend = 0\n",
    "skipped_am = 0\n",
    "skipped_pm = 0\n",
    "\n",
    "data = {\"time\": [], \"price\": [], \"volume\": [], \"symbol\": []}\n",
    "with open(ticks, \"r\") as f:\n",
    "    for i, line in enumerate(tqdm(f)):\n",
    "        if i == 0:\n",
    "            continue\n",
    "        line = line.strip().split(\",\")\n",
    "        if line[3] != \"ESH4\":\n",
    "            continue\n",
    "        if not cal.open_at_time(sched, line[0]):\n",
    "            skipped_closed += 1\n",
    "            continue\n",
    "        dt = datetime.fromisoformat(line[0])\n",
    "        if dt.weekday() > 4:\n",
    "            skipped_weekend += 1\n",
    "            continue\n",
    "        if dt.hour < 9 or (dt.hour == 9 and dt.minute < 30):\n",
    "            skipped_am += 1\n",
    "            continue\n",
    "        if dt.hour > 16 or (dt.hour == 16 and dt.minute > 30):\n",
    "            skipped_pm += 1\n",
    "            continue\n",
    "        time = dt.timestamp() \n",
    "        data[\"time\"].append(time)\n",
    "        data[\"price\"].append(float(line[1]))\n",
    "        data[\"volume\"].append(float(line[2]))\n",
    "        data[\"symbol\"].append(line[3])\n",
    "\n",
    "print(f\"{skipped_closed=}, {skipped_weekend=}, {skipped_am=}, {skipped_pm=}, {len(data['time'])=}\")"
   ]
  },
  {
   "cell_type": "code",
   "execution_count": null,
   "metadata": {},
   "outputs": [],
   "source": [
    "\"\"\"\n",
    "skipped_closed=86649, skipped_weekend=40711, skipped_am=1499093, skipped_pm=9679328, skipped_sampling=9183769\n",
    "9183770\n",
    "\"\"\""
   ]
  },
  {
   "cell_type": "code",
   "execution_count": 16,
   "metadata": {},
   "outputs": [],
   "source": [
    "df = pd.DataFrame(data)\n",
    "df.to_csv(\"ES-Trades-During-Market-Hours.csv\", index=False)"
   ]
  },
  {
   "cell_type": "code",
   "execution_count": 17,
   "metadata": {},
   "outputs": [
    {
     "data": {
      "text/plain": [
       "9183770"
      ]
     },
     "execution_count": 17,
     "metadata": {},
     "output_type": "execute_result"
    }
   ],
   "source": [
    "len(df)"
   ]
  },
  {
   "cell_type": "code",
   "execution_count": 12,
   "metadata": {},
   "outputs": [
    {
     "data": {
      "text/plain": [
       "9183770"
      ]
     },
     "execution_count": 12,
     "metadata": {},
     "output_type": "execute_result"
    }
   ],
   "source": [
    "df = pd.DataFrame(data)\n",
    "len(df)"
   ]
  },
  {
   "cell_type": "code",
   "execution_count": 14,
   "metadata": {},
   "outputs": [
    {
     "data": {
      "text/plain": [
       "<Axes: >"
      ]
     },
     "execution_count": 14,
     "metadata": {},
     "output_type": "execute_result"
    },
    {
     "data": {
      "image/png": "[encoded data removed]",
      "text/plain": [
       "<Figure size 640x480 with 1 Axes>"
      ]
     },
     "metadata": {},
     "output_type": "display_data"
    }
   ],
   "source": [
    "df['price'].plot()"
   ]
  },
  {
   "cell_type": "code",
   "execution_count": null,
   "metadata": {},
   "outputs": [],
   "source": [
    "datetime.fromtimestamp(line[0])"
   ]
  },
  {
   "cell_type": "code",
   "execution_count": null,
   "metadata": {},
   "outputs": [],
   "source": [
    "cal.open_at_time(sched, line[0])"
   ]
  },
  {
   "cell_type": "code",
   "execution_count": null,
   "metadata": {},
   "outputs": [],
   "source": [
    "df = pd.DataFrame(data)"
   ]
  },
  {
   "cell_type": "code",
   "execution_count": null,
   "metadata": {},
   "outputs": [],
   "source": [
    "# the time column contains time in isoformat, convert to datetime in EST\n",
    "\n",
    "# df[\"time\"] = df[\"time\"].apply(lambda x: datetime.fromtimestamp(x, pytz.timezone(\"US/Eastern\")))\n",
    "df[\"time\"] = df[\"time\"].progress_apply(lambda x: datetime.fromtimestamp(x, pytz.timezone(\"US/Eastern\")))\n"
   ]
  },
  {
   "cell_type": "code",
   "execution_count": null,
   "metadata": {},
   "outputs": [],
   "source": [
    "#convert the df time column to a datetime in EST\n",
    "df"
   ]
  },
  {
   "cell_type": "code",
   "execution_count": null,
   "metadata": {},
   "outputs": [],
   "source": [
    "#now, lets ensure we only trade between 9:30 and 4:30 EST\n"
   ]
  },
  {
   "cell_type": "code",
   "execution_count": null,
   "metadata": {},
   "outputs": [],
   "source": [
    "# Todo: Apply 1 tick of slippage to each trade\n",
    "\n",
    "from collections import deque\n",
    "import numpy as np\n",
    "\n",
    "window = 600\n",
    "prices = deque(maxlen=window)\n",
    "upper_band = 0\n",
    "lower_band = 0\n",
    "mu = 0\n",
    "std = 0\n",
    "qty = 0\n",
    "open_price = 0\n",
    "current_profit = 0\n",
    "total_profit = 0\n",
    "commission = 2.25\n",
    "leverage = 50\n",
    "trade_cost = commission * 2 / leverage\n",
    "\n",
    "\n",
    "buys = []\n",
    "sells = []\n",
    "holding_periods = []\n",
    "\n",
    "last_price = data['price'][0]\n",
    "\n",
    "for i in tqdm(range(len(data['time']))):\n",
    "    slip_price = last_price\n",
    "    last_price = data['price'][i]\n",
    "    prices.append(last_price)\n",
    "    if len(prices) < window:\n",
    "        continue\n",
    "\n",
    "    mu = np.mean(prices)\n",
    "    std = np.std(prices)\n",
    "\n",
    "    upper_band = mu + 2 * std\n",
    "    lower_band = mu - 2 * std\n",
    "\n",
    "    if qty == 1:\n",
    "        current_profit = (last_price - open_price) * leverage - trade_cost\n",
    "    elif qty == -1:\n",
    "        current_profit = (open_price - last_price) * leverage - trade_cost\n",
    "\n",
    "    if qty == 0: \n",
    "        if last_price < lower_band - trade_cost:\n",
    "            open_price = last_price\n",
    "            qty = 1\n",
    "            mean_side = \"under\"\n",
    "            buys.append(i)\n",
    "\n",
    "        elif last_price > upper_band + trade_cost:\n",
    "            open_price = last_price\n",
    "            qty = -1\n",
    "            mean_side = \"over\"\n",
    "            sells.append(i)\n",
    "\n",
    "    elif qty == 1:\n",
    "        if last_price >= mu and mean_side == \"under\":\n",
    "            open_price = last_price\n",
    "            qty = 0\n",
    "            mean_side = \"over\"\n",
    "            total_profit += current_profit\n",
    "            sells.append(i)\n",
    "            holding_periods.append(sells[-1] - buys[-1])\n",
    "\n",
    "    elif qty == -1:\n",
    "        if last_price <= mu and mean_side == \"over\":\n",
    "            open_price = last_price\n",
    "            qty = 0\n",
    "            mean_side = \"under\"\n",
    "            total_profit += current_profit\n",
    "            buys.append(i)\n",
    "            holding_periods.append(buys[-1] - sells[-1])\n",
    "\n",
    "\n",
    "f\"{total_profit=}\\n{np.mean(holding_periods)=}\"\n",
    "\n",
    "\n"
   ]
  },
  {
   "cell_type": "code",
   "execution_count": null,
   "metadata": {},
   "outputs": [],
   "source": [
    "# plot the prices with markers for buys and sells\n",
    "import matplotlib.pyplot as plt\n",
    "plt.plot(data['price'])\n",
    "plt.scatter(buys, [data['price'][i] for i in buys], color='green', marker='triangle_up')\n",
    "plt.scatter(sells, [data['price'][i] for i in sells], color='red', marker='triangle_down')\n",
    "plt.show()"
   ]
  },
  {
   "cell_type": "code",
   "execution_count": null,
   "metadata": {},
   "outputs": [],
   "source": []
  }
 ],
 "metadata": {
  "kernelspec": {
   "display_name": "finance",
   "language": "python",
   "name": "python3"
  },
  "language_info": {
   "codemirror_mode": {
    "name": "ipython",
    "version": 3
   },
   "file_extension": ".py",
   "mimetype": "text/x-python",
   "name": "python",
   "nbconvert_exporter": "python",
   "pygments_lexer": "ipython3",
   "version": "3.12.4"
  }
 },
 "nbformat": 4,
 "nbformat_minor": 2
}
