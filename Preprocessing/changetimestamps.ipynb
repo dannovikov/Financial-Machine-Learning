{
 "cells": [
  {
   "cell_type": "code",
   "execution_count": 4,
   "metadata": {},
   "outputs": [],
   "source": [
    "import pandas as pd\n",
    "from tqdm import tqdm, trange"
   ]
  },
  {
   "cell_type": "code",
   "execution_count": 5,
   "metadata": {},
   "outputs": [],
   "source": [
    "csv1 = r\"/Users/dan/Documents/Finance/Programs/Financial Machine Learning/Preprocessing/esh4.csv\"\n",
    "csv2 = r\"/Users/dan/Documents/Finance/Programs/Financial Machine Learning/Preprocessing/esm4.csv\"\n",
    "csv3 = r\"/Users/dan/Documents/Finance/Programs/Financial Machine Learning/Preprocessing/esu3.csv\"\n",
    "csv4 = r\"/Users/dan/Documents/Finance/Programs/Financial Machine Learning/Preprocessing/esz3.csv\""
   ]
  },
  {
   "cell_type": "code",
   "execution_count": 6,
   "metadata": {},
   "outputs": [
    {
     "name": "stderr",
     "output_type": "stream",
     "text": [
      "  0%|          | 0/4 [00:00<?, ?it/s]"
     ]
    },
    {
     "name": "stderr",
     "output_type": "stream",
     "text": [
      "100%|██████████| 4/4 [05:28<00:00, 82.24s/it]\n"
     ]
    }
   ],
   "source": [
    "#for each one, read it as a csv, \n",
    "# # Convert 'time' to datetime in UTC\n",
    "# df['time'] = pd.to_datetime(df['time'], utc=True)\n",
    "\n",
    "# # Convert datetime to Unix time with nanosecond precision\n",
    "# df['time'] = df['time'].apply(lambda x: x.timestamp())\n",
    "\n",
    "# write it back to a csv as _unix.csv\n",
    "\n",
    "def convert_to_unix(csv):\n",
    "    df = pd.read_csv(csv)\n",
    "    df['time'] = pd.to_datetime(df['time'], utc=True)\n",
    "    df['time'] = df['time'].apply(lambda x: x.timestamp())\n",
    "    df.to_csv(csv[:-4] + \"_unix.csv\", index=False)\n",
    "\n",
    "csvs = [csv1, csv2, csv3, csv4]\n",
    "for i in trange(4):\n",
    "    convert_to_unix(csvs[i])"
   ]
  },
  {
   "cell_type": "code",
   "execution_count": 8,
   "metadata": {},
   "outputs": [
    {
     "data": {
      "text/plain": [
       "array(['ESZ3', 'ESH4', 'ESM4', 'ESU4'], dtype=object)"
      ]
     },
     "execution_count": 8,
     "metadata": {},
     "output_type": "execute_result"
    }
   ],
   "source": [
    "df = pd.read_csv(csv1[:-4] + \"_unix.csv\")\n",
    "df.symbol.unique()"
   ]
  },
  {
   "cell_type": "code",
   "execution_count": 25,
   "metadata": {},
   "outputs": [],
   "source": [
    "csv = \"/Users/dan/Documents/Finance/Programs/Financial Machine Learning/Preprocessing/esm4.csv\"\n",
    "df = pd.read_csv(csv)\n",
    "df[\"date\"] = pd.to_datetime(df[\"time\"], unit=\"s\",utc=True).dt.tz_convert('US/Eastern').dt.date"
   ]
  },
  {
   "cell_type": "code",
   "execution_count": 26,
   "metadata": {},
   "outputs": [
    {
     "data": {
      "text/plain": [
       "datetime.date(2024, 3, 15)"
      ]
     },
     "execution_count": 26,
     "metadata": {},
     "output_type": "execute_result"
    }
   ],
   "source": [
    "df.date[0]"
   ]
  },
  {
   "cell_type": "code",
   "execution_count": 29,
   "metadata": {},
   "outputs": [
    {
     "name": "stdout",
     "output_type": "stream",
     "text": [
      "1710536399.596776\n",
      "      2024-03-15 16:59:59.596776009-04:00\n",
      "      1710712800.0\n",
      "      2024-03-17 18:00:00-04:00\"\n"
     ]
    }
   ],
   "source": [
    "# find the last index when date = 2024-03-15 and display the next 10 rows after that\n",
    "import datetime\n",
    "idx = df[df[\"date\"] == datetime.date(2024, 3, 15)].index[-1]\n",
    "df.iloc[idx:idx+10]\n",
    "\n",
    "# take the time at idx +1 and convert it into human readable format from unix time\n",
    "print(f\"\"\"\n",
    "      {df.time[idx]}\n",
    "      {pd.to_datetime(df.time[idx], unit=\"s\", utc=True).tz_convert('US/Eastern')}\n",
    "      {df.time[idx+1]}\n",
    "      {pd.to_datetime(df.time[idx+1], unit=\"s\", utc=True).tz_convert('US/Eastern')}\"\n",
    "\"\"\".strip())"
   ]
  },
  {
   "cell_type": "code",
   "execution_count": 30,
   "metadata": {},
   "outputs": [
    {
     "data": {
      "text/html": [
       "<div>\n",
       "<style scoped>\n",
       "    .dataframe tbody tr th:only-of-type {\n",
       "        vertical-align: middle;\n",
       "    }\n",
       "\n",
       "    .dataframe tbody tr th {\n",
       "        vertical-align: top;\n",
       "    }\n",
       "\n",
       "    .dataframe thead th {\n",
       "        text-align: right;\n",
       "    }\n",
       "</style>\n",
       "<table border=\"1\" class=\"dataframe\">\n",
       "  <thead>\n",
       "    <tr style=\"text-align: right;\">\n",
       "      <th></th>\n",
       "      <th>time</th>\n",
       "      <th>price</th>\n",
       "      <th>volume</th>\n",
       "      <th>symbol</th>\n",
       "      <th>date</th>\n",
       "    </tr>\n",
       "  </thead>\n",
       "  <tbody>\n",
       "    <tr>\n",
       "      <th>0</th>\n",
       "      <td>1.710509e+09</td>\n",
       "      <td>5186.00</td>\n",
       "      <td>1</td>\n",
       "      <td>ESM4</td>\n",
       "      <td>2024-03-15</td>\n",
       "    </tr>\n",
       "    <tr>\n",
       "      <th>1</th>\n",
       "      <td>1.710509e+09</td>\n",
       "      <td>5186.00</td>\n",
       "      <td>10</td>\n",
       "      <td>ESM4</td>\n",
       "      <td>2024-03-15</td>\n",
       "    </tr>\n",
       "    <tr>\n",
       "      <th>2</th>\n",
       "      <td>1.710509e+09</td>\n",
       "      <td>5186.00</td>\n",
       "      <td>4</td>\n",
       "      <td>ESM4</td>\n",
       "      <td>2024-03-15</td>\n",
       "    </tr>\n",
       "    <tr>\n",
       "      <th>3</th>\n",
       "      <td>1.710509e+09</td>\n",
       "      <td>5186.00</td>\n",
       "      <td>6</td>\n",
       "      <td>ESM4</td>\n",
       "      <td>2024-03-15</td>\n",
       "    </tr>\n",
       "    <tr>\n",
       "      <th>4</th>\n",
       "      <td>1.710509e+09</td>\n",
       "      <td>5186.00</td>\n",
       "      <td>1</td>\n",
       "      <td>ESM4</td>\n",
       "      <td>2024-03-15</td>\n",
       "    </tr>\n",
       "    <tr>\n",
       "      <th>...</th>\n",
       "      <td>...</td>\n",
       "      <td>...</td>\n",
       "      <td>...</td>\n",
       "      <td>...</td>\n",
       "      <td>...</td>\n",
       "    </tr>\n",
       "    <tr>\n",
       "      <th>24184672</th>\n",
       "      <td>1.718977e+09</td>\n",
       "      <td>5463.25</td>\n",
       "      <td>2</td>\n",
       "      <td>ESM4</td>\n",
       "      <td>2024-06-21</td>\n",
       "    </tr>\n",
       "    <tr>\n",
       "      <th>24184673</th>\n",
       "      <td>1.718977e+09</td>\n",
       "      <td>5463.50</td>\n",
       "      <td>1</td>\n",
       "      <td>ESM4</td>\n",
       "      <td>2024-06-21</td>\n",
       "    </tr>\n",
       "    <tr>\n",
       "      <th>24184674</th>\n",
       "      <td>1.718977e+09</td>\n",
       "      <td>5463.75</td>\n",
       "      <td>2</td>\n",
       "      <td>ESM4</td>\n",
       "      <td>2024-06-21</td>\n",
       "    </tr>\n",
       "    <tr>\n",
       "      <th>24184675</th>\n",
       "      <td>1.718977e+09</td>\n",
       "      <td>5463.75</td>\n",
       "      <td>2</td>\n",
       "      <td>ESM4</td>\n",
       "      <td>2024-06-21</td>\n",
       "    </tr>\n",
       "    <tr>\n",
       "      <th>24184676</th>\n",
       "      <td>1.718977e+09</td>\n",
       "      <td>5463.75</td>\n",
       "      <td>3</td>\n",
       "      <td>ESM4</td>\n",
       "      <td>2024-06-21</td>\n",
       "    </tr>\n",
       "  </tbody>\n",
       "</table>\n",
       "<p>24184677 rows × 5 columns</p>\n",
       "</div>"
      ],
      "text/plain": [
       "                  time    price  volume symbol        date\n",
       "0         1.710509e+09  5186.00       1   ESM4  2024-03-15\n",
       "1         1.710509e+09  5186.00      10   ESM4  2024-03-15\n",
       "2         1.710509e+09  5186.00       4   ESM4  2024-03-15\n",
       "3         1.710509e+09  5186.00       6   ESM4  2024-03-15\n",
       "4         1.710509e+09  5186.00       1   ESM4  2024-03-15\n",
       "...                ...      ...     ...    ...         ...\n",
       "24184672  1.718977e+09  5463.25       2   ESM4  2024-06-21\n",
       "24184673  1.718977e+09  5463.50       1   ESM4  2024-06-21\n",
       "24184674  1.718977e+09  5463.75       2   ESM4  2024-06-21\n",
       "24184675  1.718977e+09  5463.75       2   ESM4  2024-06-21\n",
       "24184676  1.718977e+09  5463.75       3   ESM4  2024-06-21\n",
       "\n",
       "[24184677 rows x 5 columns]"
      ]
     },
     "execution_count": 30,
     "metadata": {},
     "output_type": "execute_result"
    }
   ],
   "source": [
    "df"
   ]
  },
  {
   "cell_type": "code",
   "execution_count": 44,
   "metadata": {},
   "outputs": [],
   "source": [
    "# add a datetime column that shows date and time\n",
    "df[\"datetime\"] = pd.to_datetime(df[\"time\"], unit=\"s\",utc=True).dt.tz_convert('US/Eastern')\n",
    "df['dayofweek'] = df['datetime'].dt.dayofweek"
   ]
  },
  {
   "cell_type": "code",
   "execution_count": 45,
   "metadata": {},
   "outputs": [
    {
     "data": {
      "text/html": [
       "<div>\n",
       "<style scoped>\n",
       "    .dataframe tbody tr th:only-of-type {\n",
       "        vertical-align: middle;\n",
       "    }\n",
       "\n",
       "    .dataframe tbody tr th {\n",
       "        vertical-align: top;\n",
       "    }\n",
       "\n",
       "    .dataframe thead th {\n",
       "        text-align: right;\n",
       "    }\n",
       "</style>\n",
       "<table border=\"1\" class=\"dataframe\">\n",
       "  <thead>\n",
       "    <tr style=\"text-align: right;\">\n",
       "      <th></th>\n",
       "      <th>time</th>\n",
       "      <th>price</th>\n",
       "      <th>volume</th>\n",
       "      <th>symbol</th>\n",
       "      <th>date</th>\n",
       "      <th>datetime</th>\n",
       "      <th>dayofweek</th>\n",
       "    </tr>\n",
       "  </thead>\n",
       "  <tbody>\n",
       "    <tr>\n",
       "      <th>372699</th>\n",
       "      <td>1.710536e+09</td>\n",
       "      <td>5183.25</td>\n",
       "      <td>9</td>\n",
       "      <td>ESM4</td>\n",
       "      <td>2024-03-15</td>\n",
       "      <td>2024-03-15 16:59:59.596776009-04:00</td>\n",
       "      <td>4</td>\n",
       "    </tr>\n",
       "    <tr>\n",
       "      <th>372700</th>\n",
       "      <td>1.710713e+09</td>\n",
       "      <td>5185.75</td>\n",
       "      <td>87</td>\n",
       "      <td>ESM4</td>\n",
       "      <td>2024-03-17</td>\n",
       "      <td>2024-03-17 18:00:00-04:00</td>\n",
       "      <td>6</td>\n",
       "    </tr>\n",
       "    <tr>\n",
       "      <th>372701</th>\n",
       "      <td>1.710713e+09</td>\n",
       "      <td>5185.75</td>\n",
       "      <td>2</td>\n",
       "      <td>ESM4</td>\n",
       "      <td>2024-03-17</td>\n",
       "      <td>2024-03-17 18:00:00.035718918-04:00</td>\n",
       "      <td>6</td>\n",
       "    </tr>\n",
       "    <tr>\n",
       "      <th>372702</th>\n",
       "      <td>1.710713e+09</td>\n",
       "      <td>5185.75</td>\n",
       "      <td>1</td>\n",
       "      <td>ESM4</td>\n",
       "      <td>2024-03-17</td>\n",
       "      <td>2024-03-17 18:00:00.035763025-04:00</td>\n",
       "      <td>6</td>\n",
       "    </tr>\n",
       "    <tr>\n",
       "      <th>372703</th>\n",
       "      <td>1.710713e+09</td>\n",
       "      <td>5185.50</td>\n",
       "      <td>1</td>\n",
       "      <td>ESM4</td>\n",
       "      <td>2024-03-17</td>\n",
       "      <td>2024-03-17 18:00:00.040338993-04:00</td>\n",
       "      <td>6</td>\n",
       "    </tr>\n",
       "    <tr>\n",
       "      <th>...</th>\n",
       "      <td>...</td>\n",
       "      <td>...</td>\n",
       "      <td>...</td>\n",
       "      <td>...</td>\n",
       "      <td>...</td>\n",
       "      <td>...</td>\n",
       "      <td>...</td>\n",
       "    </tr>\n",
       "    <tr>\n",
       "      <th>24184672</th>\n",
       "      <td>1.718977e+09</td>\n",
       "      <td>5463.25</td>\n",
       "      <td>2</td>\n",
       "      <td>ESM4</td>\n",
       "      <td>2024-06-21</td>\n",
       "      <td>2024-06-21 09:29:59.058638096-04:00</td>\n",
       "      <td>4</td>\n",
       "    </tr>\n",
       "    <tr>\n",
       "      <th>24184673</th>\n",
       "      <td>1.718977e+09</td>\n",
       "      <td>5463.50</td>\n",
       "      <td>1</td>\n",
       "      <td>ESM4</td>\n",
       "      <td>2024-06-21</td>\n",
       "      <td>2024-06-21 09:29:59.082065105-04:00</td>\n",
       "      <td>4</td>\n",
       "    </tr>\n",
       "    <tr>\n",
       "      <th>24184674</th>\n",
       "      <td>1.718977e+09</td>\n",
       "      <td>5463.75</td>\n",
       "      <td>2</td>\n",
       "      <td>ESM4</td>\n",
       "      <td>2024-06-21</td>\n",
       "      <td>2024-06-21 09:29:59.210445881-04:00</td>\n",
       "      <td>4</td>\n",
       "    </tr>\n",
       "    <tr>\n",
       "      <th>24184675</th>\n",
       "      <td>1.718977e+09</td>\n",
       "      <td>5463.75</td>\n",
       "      <td>2</td>\n",
       "      <td>ESM4</td>\n",
       "      <td>2024-06-21</td>\n",
       "      <td>2024-06-21 09:29:59.215425968-04:00</td>\n",
       "      <td>4</td>\n",
       "    </tr>\n",
       "    <tr>\n",
       "      <th>24184676</th>\n",
       "      <td>1.718977e+09</td>\n",
       "      <td>5463.75</td>\n",
       "      <td>3</td>\n",
       "      <td>ESM4</td>\n",
       "      <td>2024-06-21</td>\n",
       "      <td>2024-06-21 09:29:59.345164061-04:00</td>\n",
       "      <td>4</td>\n",
       "    </tr>\n",
       "  </tbody>\n",
       "</table>\n",
       "<p>23811978 rows × 7 columns</p>\n",
       "</div>"
      ],
      "text/plain": [
       "                  time    price  volume symbol        date  \\\n",
       "372699    1.710536e+09  5183.25       9   ESM4  2024-03-15   \n",
       "372700    1.710713e+09  5185.75      87   ESM4  2024-03-17   \n",
       "372701    1.710713e+09  5185.75       2   ESM4  2024-03-17   \n",
       "372702    1.710713e+09  5185.75       1   ESM4  2024-03-17   \n",
       "372703    1.710713e+09  5185.50       1   ESM4  2024-03-17   \n",
       "...                ...      ...     ...    ...         ...   \n",
       "24184672  1.718977e+09  5463.25       2   ESM4  2024-06-21   \n",
       "24184673  1.718977e+09  5463.50       1   ESM4  2024-06-21   \n",
       "24184674  1.718977e+09  5463.75       2   ESM4  2024-06-21   \n",
       "24184675  1.718977e+09  5463.75       2   ESM4  2024-06-21   \n",
       "24184676  1.718977e+09  5463.75       3   ESM4  2024-06-21   \n",
       "\n",
       "                                    datetime  dayofweek  \n",
       "372699   2024-03-15 16:59:59.596776009-04:00          4  \n",
       "372700             2024-03-17 18:00:00-04:00          6  \n",
       "372701   2024-03-17 18:00:00.035718918-04:00          6  \n",
       "372702   2024-03-17 18:00:00.035763025-04:00          6  \n",
       "372703   2024-03-17 18:00:00.040338993-04:00          6  \n",
       "...                                      ...        ...  \n",
       "24184672 2024-06-21 09:29:59.058638096-04:00          4  \n",
       "24184673 2024-06-21 09:29:59.082065105-04:00          4  \n",
       "24184674 2024-06-21 09:29:59.210445881-04:00          4  \n",
       "24184675 2024-06-21 09:29:59.215425968-04:00          4  \n",
       "24184676 2024-06-21 09:29:59.345164061-04:00          4  \n",
       "\n",
       "[23811978 rows x 7 columns]"
      ]
     },
     "execution_count": 45,
     "metadata": {},
     "output_type": "execute_result"
    }
   ],
   "source": [
    "# view the dataframe starting from index 379126\n",
    "df.iloc[372699:]"
   ]
  },
  {
   "cell_type": "code",
   "execution_count": 46,
   "metadata": {},
   "outputs": [
    {
     "data": {
      "text/plain": [
       "385084"
      ]
     },
     "execution_count": 46,
     "metadata": {},
     "output_type": "execute_result"
    }
   ],
   "source": [
    "# last index where date= datetime(2024, 3, 15)\n",
    "df[df[\"date\"] == datetime.date(2024, 3, 17)].index[-1]"
   ]
  },
  {
   "cell_type": "code",
   "execution_count": 53,
   "metadata": {},
   "outputs": [
    {
     "data": {
      "text/plain": [
       "<Axes: >"
      ]
     },
     "execution_count": 53,
     "metadata": {},
     "output_type": "execute_result"
    },
    {
     "data": {
      "image/png": "[encoded data removed]",
      "text/plain": [
       "<Figure size 640x480 with 1 Axes>"
      ]
     },
     "metadata": {},
     "output_type": "display_data"
    }
   ],
   "source": [
    "df.iloc[971000:973000].price.plot()"
   ]
  },
  {
   "cell_type": "code",
   "execution_count": 51,
   "metadata": {},
   "outputs": [
    {
     "data": {
      "text/plain": [
       "array([datetime.date(2024, 4, 12), datetime.date(2024, 4, 16),\n",
       "       datetime.date(2024, 5, 31), datetime.date(2024, 6, 12),\n",
       "       datetime.date(2024, 6, 13)], dtype=object)"
      ]
     },
     "execution_count": 51,
     "metadata": {},
     "output_type": "execute_result"
    }
   ],
   "source": [
    "# look for stretches of 100 consecutive ticks of the same price\n",
    "# output dates that contain such runs\n",
    "\n",
    "\n",
    "def find_runs(df, run_length):\n",
    "    df[\"run\"] = (df[\"price\"] == df[\"price\"].shift()).cumsum()\n",
    "    runs = df.groupby([\"date\", \"run\"]).size().reset_index(name=\"count\")\n",
    "    runs = runs[runs[\"count\"] == run_length]\n",
    "    return runs[\"date\"].unique()\n",
    "\n",
    "find_runs(df, 20)"
   ]
  },
  {
   "cell_type": "code",
   "execution_count": null,
   "metadata": {},
   "outputs": [],
   "source": []
  }
 ],
 "metadata": {
  "kernelspec": {
   "display_name": "ibkr",
   "language": "python",
   "name": "python3"
  },
  "language_info": {
   "codemirror_mode": {
    "name": "ipython",
    "version": 3
   },
   "file_extension": ".py",
   "mimetype": "text/x-python",
   "name": "python",
   "nbconvert_exporter": "python",
   "pygments_lexer": "ipython3",
   "version": "3.12.4"
  }
 },
 "nbformat": 4,
 "nbformat_minor": 2
}
